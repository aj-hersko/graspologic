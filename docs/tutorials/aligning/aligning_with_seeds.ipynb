{
 "cells": [
  {
   "cell_type": "markdown",
   "metadata": {},
   "source": [
    "# Aligning with seeds\n",
    "Previously, the `align` module has been used in the classes `SignFlips`, `OrthogonalProcrustes`, and `SeedlessProcrustes` to align two datasets by correcting an orthogonal transformation of the data. However, it can be alternatively used with the addition of a matrix of seeds that identifies a relation between data points from said datasets. This relation can be described as a partial matching of entries between the two datasets. In this case, the calculation of Procrustes is less straight forward, as a new variable is introduced, altering the means by which $Q$ is determined in the equation $|| X Q_{SP} - P Y ||_F$."
   ]
  },
  {
   "cell_type": "markdown",
   "metadata": {},
   "source": [
    "## SeededProcrustes\n",
    "\n",
    "`SeededProcrustes` is an algorithm that extends regular Procrustes to a case where there is a known partial correspondence between the two datasets. In this case, the two datasets are not required to have the same number of entries, seeing as the relation between the two datasets does not have to be a 1:1 pairing. `SeededProcrustes` uses the paired portion of the datasets as a sort of sample population to calculate a $Q$ value that could be accurately applied to the datasets as a whole. This $Q$ is used to minimize the formula $|| X Q_{SP} - P Y ||_F$ once an accurate $P$ value is found by plugging the found $Q$ into `SeedlessProcrustes`."
   ]
  },
  {
   "cell_type": "markdown",
   "metadata": {},
   "source": [
    "Given two datasets, $X$ and $Y$, one can assume they will have an equal number of paired indices, but it is not required for them to have the same number of total elements. The `seeds` matrix is an $n$x2 matrix made up of all paired indices found between the $X$ and $Y$ where $n$ corresponds to the number of pairs between $X$ and $Y$. In other words, the first column consists of indices of $X$ elements from the pairs, and the second column houses the corresponding $Y$ indices. "
   ]
  },
  {
   "cell_type": "code",
   "execution_count": 7,
   "metadata": {},
   "outputs": [],
   "source": [
    "import numpy as np\n",
    "from graspologic.align import SeededProcrustes\n",
    "from scipy.stats import special_ortho_group\n",
    "import matplotlib.pyplot as plt\n",
    "\n",
    "aligner = SeededProcrustes()\n",
    "X = np.random.uniform(0, 1, (20, 2))\n",
    "Q = special_ortho_group.rvs(2)\n",
    "Y = np.random.uniform(0, 1, (30, 2)) @ Q\n",
    "X_prime = np.random.uniform(0, 1, (10, 2))\n",
    "Y_prime = X_prime @ Q\n",
    "X_hat = np.vstack((X_prime,X))\n",
    "Y_hat = np.vstack((Y_prime,Y))\n",
    "X_prime_len = X_prime.shape[0]\n",
    "seeds = np.arange(X_prime_len)\n",
    "aligner.fit_transform(X_hat, Y_hat, seeds)"
   ]
  },
  {
   "cell_type": "code",
   "execution_count": null,
   "metadata": {},
   "outputs": [
    {
     "data": {
      "image/png": "[encoded data removed]",
      "text/plain": [
       "<Figure size 432x432 with 1 Axes>"
      ]
     },
     "metadata": {
      "needs_background": "light"
     },
     "output_type": "display_data"
    }
   ],
   "source": [
    "fig, ax = plt.subplots(1, 1, figsize=(6, 6))\n",
    "ax.set_title(\"SeededProcrustes, Aligning with seeds example\")\n",
    "ax.scatter(X[:,0], X[:,1], label=r\"$X$\", marker='x')\n",
    "ax.scatter(Y[:,0], Y[:,1], label=r\"$Y$\", s=100, alpha=0.5)\n",
    "ax.scatter(X_prime[:,0],\n",
    "           X_prime[:,1],\n",
    "           label=r\"$X_{SP}$\", \n",
    "           marker='$S$')\n",
    "ax.set(xlim=(-1.20, 1.20), ylim=(-1.20, 1.20))\n",
    "ax.set_xticks([0])\n",
    "ax.set_yticks([0])\n",
    "ax.legend()\n",
    "ax.grid();"
   ]
  }
 ],
 "metadata": {
  "kernelspec": {
   "display_name": "Python 3.9.13 ('.venv': venv)",
   "language": "python",
   "name": "python3"
  },
  "language_info": {
   "codemirror_mode": {
    "name": "ipython",
    "version": 3
   },
   "file_extension": ".py",
   "mimetype": "text/x-python",
   "name": "python",
   "nbconvert_exporter": "python",
   "pygments_lexer": "ipython3",
   "version": "3.9.13"
  },
  "orig_nbformat": 4,
  "vscode": {
   "interpreter": {
    "hash": "73d54a530400df3e64bf9e0577d0e55b26db8cf08891efcafe42f39fb90a5101"
   }
  }
 },
 "nbformat": 4,
 "nbformat_minor": 2
}
